{
  "nbformat": 4,
  "nbformat_minor": 0,
  "metadata": {
    "colab": {
      "name": "week3_introduction _to_tensorflow.ipynb",
      "provenance": [],
      "authorship_tag": "ABX9TyPPnB7FinNxs4Be5fgyS5nv",
      "include_colab_link": true
    },
    "kernelspec": {
      "name": "python3",
      "display_name": "Python 3"
    },
    "language_info": {
      "name": "python"
    }
  },
  "cells": [
    {
      "cell_type": "markdown",
      "metadata": {
        "id": "view-in-github",
        "colab_type": "text"
      },
      "source": [
        "<a href=\"https://colab.research.google.com/github/wolego2uni/project1/blob/main/week3_introduction__to_tensorflow.ipynb\" target=\"_parent\"><img src=\"https://colab.research.google.com/assets/colab-badge.svg\" alt=\"Open In Colab\"/></a>"
      ]
    },
    {
      "cell_type": "code",
      "metadata": {
        "id": "e3ZkjX328BVO"
      },
      "source": [
        "import tensorflow as tf\n",
        "from os import path, getcwd, chdir\n",
        "\n",
        "\n"
      ],
      "execution_count": 4,
      "outputs": []
    },
    {
      "cell_type": "code",
      "metadata": {
        "id": "ugQPmCk08Lez"
      },
      "source": [
        "# GRADED FUNCTION: train_mnist_conv\n",
        "def train_mnist_conv():\n",
        "    class myCallback(tf.keras.callbacks.Callback):\n",
        "        def on_epoch_end(self, epoch, logs={}):\n",
        "            if(logs.get('accuracy')>=0.998):\n",
        "                print(\"\\nReached 99.8% accuracy so cancelling training!\")\n",
        "                self.model.stop_training = True\n",
        "                \n",
        "\n",
        "    mnist = tf.keras.datasets.mnist\n",
        "    (training_images, training_labels), (test_images, test_labels) = mnist.load_data()\n",
        "    training_images=training_images.reshape(60000, 28, 28, 1)\n",
        "    training_images=training_images / 255.0\n",
        "    test_images = test_images.reshape(10000, 28, 28, 1)\n",
        "    test_images=test_images/255.0\n",
        "    \n",
        "    callbacks = myCallback()\n",
        "\n",
        "\n",
        "\n",
        "    model = tf.keras.models.Sequential([\n",
        "            tf.keras.layers.Conv2D(64, (3,3), activation='relu', input_shape=(28, 28, 1)),\n",
        "            tf.keras.layers.MaxPooling2D(2, 2),\n",
        "            tf.keras.layers.Flatten(),\n",
        "            tf.keras.layers.Dense(128, activation='relu'),\n",
        "            tf.keras.layers.Dense(10, activation='softmax')\n",
        "    ])\n",
        "\n",
        "    model.compile(optimizer='adam', loss='sparse_categorical_crossentropy', metrics=['accuracy'])\n",
        "    # model fitting\n",
        "    history = model.fit(\n",
        "        training_images, training_labels, epochs=20, callbacks=[callbacks]\n",
        "    )\n",
        "    # model fitting\n",
        "    return history.epoch, history.history['accuracy'][-1]\n",
        "\n"
      ],
      "execution_count": 9,
      "outputs": []
    },
    {
      "cell_type": "code",
      "metadata": {
        "colab": {
          "base_uri": "https://localhost:8080/"
        },
        "id": "5iaISFY68NX1",
        "outputId": "3b5c685b-5819-46b7-a491-72de3e014817"
      },
      "source": [
        "train_mnist_conv()"
      ],
      "execution_count": 10,
      "outputs": [
        {
          "output_type": "stream",
          "text": [
            "Epoch 1/20\n",
            "1875/1875 [==============================] - 56s 30ms/step - loss: 0.1380 - accuracy: 0.9588\n",
            "Epoch 2/20\n",
            "1875/1875 [==============================] - 55s 29ms/step - loss: 0.0491 - accuracy: 0.9848\n",
            "Epoch 3/20\n",
            "1875/1875 [==============================] - 55s 29ms/step - loss: 0.0288 - accuracy: 0.9914\n",
            "Epoch 4/20\n",
            "1875/1875 [==============================] - 55s 29ms/step - loss: 0.0191 - accuracy: 0.9937\n",
            "Epoch 5/20\n",
            "1875/1875 [==============================] - 55s 29ms/step - loss: 0.0122 - accuracy: 0.9960\n",
            "Epoch 6/20\n",
            "1875/1875 [==============================] - 55s 29ms/step - loss: 0.0097 - accuracy: 0.9970\n",
            "Epoch 7/20\n",
            "1875/1875 [==============================] - 55s 29ms/step - loss: 0.0082 - accuracy: 0.9973\n",
            "Epoch 8/20\n",
            "1875/1875 [==============================] - 55s 29ms/step - loss: 0.0061 - accuracy: 0.9980\n",
            "\n",
            "Reached 99.8% accuracy so cancelling training!\n"
          ],
          "name": "stdout"
        },
        {
          "output_type": "execute_result",
          "data": {
            "text/plain": [
              "([0, 1, 2, 3, 4, 5, 6, 7], 0.998033344745636)"
            ]
          },
          "metadata": {
            "tags": []
          },
          "execution_count": 10
        }
      ]
    },
    {
      "cell_type": "markdown",
      "metadata": {
        "id": "osRbwmoYYyhZ"
      },
      "source": [
        "## Author\n",
        "\n",
        "<p><a href=\"https://www.linkedin.com/in/wolehat/\" target=\"_blank\">Oluwole Fagbohun</a> <br>Founder of Go2uni and an Msc Candidate (Data Science (5/5)). His research is focused on using machine learning and computer vision in solving real world problems. He is currently looking for data science/machine learning roles, internships and phD opportunuties in machine learning.</p>"
      ]
    }
  ]
}