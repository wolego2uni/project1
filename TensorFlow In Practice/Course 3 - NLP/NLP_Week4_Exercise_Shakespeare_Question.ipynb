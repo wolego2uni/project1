{
  "nbformat": 4,
  "nbformat_minor": 0,
  "metadata": {
    "accelerator": "GPU",
    "colab": {
      "name": "NLP_Week4_Exercise_Shakespeare_Question.ipynb",
      "provenance": [],
      "toc_visible": true
    },
    "kernelspec": {
      "display_name": "Python 3",
      "name": "python3"
    }
  },
  "cells": [
    {
      "cell_type": "code",
      "metadata": {
        "id": "BOwsuGQQY9OL"
      },
      "source": [
        "from tensorflow.keras.preprocessing.sequence import pad_sequences\n",
        "from tensorflow.keras.layers import Embedding, LSTM, Dense, Dropout, Bidirectional\n",
        "from tensorflow.keras.preprocessing.text import Tokenizer\n",
        "from tensorflow.keras.models import Sequential\n",
        "from tensorflow.keras.optimizers import Adam\n",
        "### YOUR CODE HERE\n",
        "# Figure out how to import regularizers\n",
        "###\n",
        "import tensorflow.keras.utils as ku \n",
        "import numpy as np "
      ],
      "execution_count": 3,
      "outputs": []
    },
    {
      "cell_type": "code",
      "metadata": {
        "colab": {
          "base_uri": "https://localhost:8080/"
        },
        "id": "PRnDnCW-Z7qv",
        "outputId": "a2f16ba7-b0fe-49b2-91f1-b8f9dece6dba"
      },
      "source": [
        "tokenizer = Tokenizer()\n",
        "!wget --no-check-certificate \\\n",
        "    https://storage.googleapis.com/laurencemoroney-blog.appspot.com/sonnets.txt \\\n",
        "    -O /tmp/sonnets.txt\n",
        "data = open('/tmp/sonnets.txt').read()\n",
        "\n",
        "corpus = data.lower().split(\"\\n\")\n",
        "\n",
        "\n",
        "tokenizer.fit_on_texts(corpus)\n",
        "total_words = len(tokenizer.word_index) + 1\n",
        "\n",
        "# create input sequences using list of tokens\n",
        "input_sequences = []\n",
        "for line in corpus:\n",
        "\ttoken_list = tokenizer.texts_to_sequences([line])[0]\n",
        "\tfor i in range(1, len(token_list)):\n",
        "\t\tn_gram_sequence = token_list[:i+1]\n",
        "\t\tinput_sequences.append(n_gram_sequence)\n",
        "\n",
        "\n",
        "# pad sequences \n",
        "max_sequence_len = max([len(x) for x in input_sequences])\n",
        "input_sequences = np.array(pad_sequences(input_sequences, maxlen=max_sequence_len, padding='pre'))\n",
        "\n",
        "# create predictors and label\n",
        "predictors, label = input_sequences[:,:-1],input_sequences[:,-1]\n",
        "\n",
        "label = ku.to_categorical(label, num_classes=total_words)"
      ],
      "execution_count": 4,
      "outputs": [
        {
          "output_type": "stream",
          "text": [
            "--2021-07-14 15:06:13--  https://storage.googleapis.com/laurencemoroney-blog.appspot.com/sonnets.txt\n",
            "Resolving storage.googleapis.com (storage.googleapis.com)... 142.251.2.128, 142.250.141.128, 2607:f8b0:4023:c03::80, ...\n",
            "Connecting to storage.googleapis.com (storage.googleapis.com)|142.251.2.128|:443... connected.\n",
            "HTTP request sent, awaiting response... 200 OK\n",
            "Length: 93578 (91K) [text/plain]\n",
            "Saving to: ‘/tmp/sonnets.txt’\n",
            "\n",
            "\r/tmp/sonnets.txt      0%[                    ]       0  --.-KB/s               \r/tmp/sonnets.txt    100%[===================>]  91.38K  --.-KB/s    in 0.001s  \n",
            "\n",
            "2021-07-14 15:06:13 (117 MB/s) - ‘/tmp/sonnets.txt’ saved [93578/93578]\n",
            "\n"
          ],
          "name": "stdout"
        }
      ]
    },
    {
      "cell_type": "code",
      "metadata": {
        "id": "w9vH8Y59ajYL"
      },
      "source": [
        "model = Sequential()\n",
        "model.add(# Your Embedding Layer)\n",
        "model.add(# An LSTM Layer)\n",
        "model.add(# A dropout layer)\n",
        "model.add(# Another LSTM Layer)\n",
        "model.add(# A Dense Layer including regularizers)\n",
        "model.add(# A Dense Layer)\n",
        "# Pick an optimizer\n",
        "model.compile(# Pick a loss function and an optimizer)\n",
        "print(model.summary())\n"
      ],
      "execution_count": null,
      "outputs": []
    },
    {
      "cell_type": "code",
      "metadata": {
        "id": "oOR-vsINjJ9u",
        "outputId": "d4b7e004-472a-4af7-f92c-9f20835a40d9",
        "colab": {
          "base_uri": "https://localhost:8080/"
        }
      },
      "source": [
        "model = Sequential()\n",
        "model.add(Embedding(total_words, 100, input_length=max_sequence_len-1))  #(# Your Embedding Layer)\n",
        "model.add(Bidirectional(LSTM(150, return_sequences=True)))  #(# An LSTM Layer)\n",
        "model.add(Dropout(0.2))  #(# A dropout layer)\n",
        "model.add(LSTM(100))  #(# Another LSTM Layer)\n",
        "model.add(Dense(total_words/2, activation='relu'))  #(# A Dense Layer including regularizers)\n",
        "model.add(Dense(total_words, activation='softmax'))  #(# A Dense Layer)\n",
        "# Pick an optimizer\n",
        "model.compile(loss='categorical_crossentropy', optimizer='adam', metrics='accuracy')  #(# Pick a loss function and an optimizer)\n",
        "print(model.summary())"
      ],
      "execution_count": 5,
      "outputs": [
        {
          "output_type": "stream",
          "text": [
            "Model: \"sequential\"\n",
            "_________________________________________________________________\n",
            "Layer (type)                 Output Shape              Param #   \n",
            "=================================================================\n",
            "embedding (Embedding)        (None, 10, 100)           321100    \n",
            "_________________________________________________________________\n",
            "bidirectional (Bidirectional (None, 10, 300)           301200    \n",
            "_________________________________________________________________\n",
            "dropout (Dropout)            (None, 10, 300)           0         \n",
            "_________________________________________________________________\n",
            "lstm_1 (LSTM)                (None, 100)               160400    \n",
            "_________________________________________________________________\n",
            "dense (Dense)                (None, 1605)              162105    \n",
            "_________________________________________________________________\n",
            "dense_1 (Dense)              (None, 3211)              5156866   \n",
            "=================================================================\n",
            "Total params: 6,101,671\n",
            "Trainable params: 6,101,671\n",
            "Non-trainable params: 0\n",
            "_________________________________________________________________\n",
            "None\n"
          ],
          "name": "stdout"
        }
      ]
    },
    {
      "cell_type": "code",
      "metadata": {
        "colab": {
          "base_uri": "https://localhost:8080/"
        },
        "id": "AIg2f1HBxqof",
        "outputId": "d673b808-8b9c-48f9-df78-eb226c5d1e07"
      },
      "source": [
        " history = model.fit(predictors, label, epochs=100, verbose=1)"
      ],
      "execution_count": 6,
      "outputs": [
        {
          "output_type": "stream",
          "text": [
            "Epoch 1/100\n",
            "484/484 [==============================] - 16s 11ms/step - loss: 6.8091 - accuracy: 0.0227\n",
            "Epoch 2/100\n",
            "484/484 [==============================] - 5s 11ms/step - loss: 6.4221 - accuracy: 0.0330\n",
            "Epoch 3/100\n",
            "484/484 [==============================] - 6s 12ms/step - loss: 6.2154 - accuracy: 0.0369\n",
            "Epoch 4/100\n",
            "484/484 [==============================] - 6s 12ms/step - loss: 6.0118 - accuracy: 0.0421\n",
            "Epoch 5/100\n",
            "484/484 [==============================] - 6s 12ms/step - loss: 5.7729 - accuracy: 0.0520\n",
            "Epoch 6/100\n",
            "484/484 [==============================] - 6s 12ms/step - loss: 5.5149 - accuracy: 0.0622\n",
            "Epoch 7/100\n",
            "484/484 [==============================] - 6s 12ms/step - loss: 5.2689 - accuracy: 0.0747\n",
            "Epoch 8/100\n",
            "484/484 [==============================] - 6s 12ms/step - loss: 5.0283 - accuracy: 0.0869\n",
            "Epoch 9/100\n",
            "484/484 [==============================] - 6s 11ms/step - loss: 4.7756 - accuracy: 0.1004\n",
            "Epoch 10/100\n",
            "484/484 [==============================] - 6s 11ms/step - loss: 4.5307 - accuracy: 0.1169\n",
            "Epoch 11/100\n",
            "484/484 [==============================] - 6s 12ms/step - loss: 4.2639 - accuracy: 0.1396\n",
            "Epoch 12/100\n",
            "484/484 [==============================] - 6s 11ms/step - loss: 3.9942 - accuracy: 0.1658\n",
            "Epoch 13/100\n",
            "484/484 [==============================] - 6s 11ms/step - loss: 3.6955 - accuracy: 0.2011\n",
            "Epoch 14/100\n",
            "484/484 [==============================] - 6s 12ms/step - loss: 3.4021 - accuracy: 0.2429\n",
            "Epoch 15/100\n",
            "484/484 [==============================] - 6s 11ms/step - loss: 3.0947 - accuracy: 0.2976\n",
            "Epoch 16/100\n",
            "484/484 [==============================] - 6s 12ms/step - loss: 2.8065 - accuracy: 0.3489\n",
            "Epoch 17/100\n",
            "484/484 [==============================] - 6s 12ms/step - loss: 2.5428 - accuracy: 0.4009\n",
            "Epoch 18/100\n",
            "484/484 [==============================] - 6s 12ms/step - loss: 2.2990 - accuracy: 0.4523\n",
            "Epoch 19/100\n",
            "484/484 [==============================] - 6s 12ms/step - loss: 2.0840 - accuracy: 0.4986\n",
            "Epoch 20/100\n",
            "484/484 [==============================] - 6s 12ms/step - loss: 1.9042 - accuracy: 0.5373\n",
            "Epoch 21/100\n",
            "484/484 [==============================] - 6s 12ms/step - loss: 1.7257 - accuracy: 0.5733\n",
            "Epoch 22/100\n",
            "484/484 [==============================] - 6s 12ms/step - loss: 1.5744 - accuracy: 0.6110\n",
            "Epoch 23/100\n",
            "484/484 [==============================] - 6s 12ms/step - loss: 1.4516 - accuracy: 0.6400\n",
            "Epoch 24/100\n",
            "484/484 [==============================] - 6s 12ms/step - loss: 1.3496 - accuracy: 0.6632\n",
            "Epoch 25/100\n",
            "484/484 [==============================] - 6s 12ms/step - loss: 1.2366 - accuracy: 0.6881\n",
            "Epoch 26/100\n",
            "484/484 [==============================] - 6s 12ms/step - loss: 1.1487 - accuracy: 0.7104\n",
            "Epoch 27/100\n",
            "484/484 [==============================] - 6s 12ms/step - loss: 1.0844 - accuracy: 0.7276\n",
            "Epoch 28/100\n",
            "484/484 [==============================] - 6s 12ms/step - loss: 1.0207 - accuracy: 0.7402\n",
            "Epoch 29/100\n",
            "484/484 [==============================] - 6s 12ms/step - loss: 0.9704 - accuracy: 0.7540\n",
            "Epoch 30/100\n",
            "484/484 [==============================] - 6s 12ms/step - loss: 0.9192 - accuracy: 0.7672\n",
            "Epoch 31/100\n",
            "484/484 [==============================] - 6s 12ms/step - loss: 0.8823 - accuracy: 0.7733\n",
            "Epoch 32/100\n",
            "484/484 [==============================] - 6s 12ms/step - loss: 0.8503 - accuracy: 0.7828\n",
            "Epoch 33/100\n",
            "484/484 [==============================] - 6s 12ms/step - loss: 0.8280 - accuracy: 0.7840\n",
            "Epoch 34/100\n",
            "484/484 [==============================] - 6s 12ms/step - loss: 0.7862 - accuracy: 0.7960\n",
            "Epoch 35/100\n",
            "484/484 [==============================] - 6s 12ms/step - loss: 0.7606 - accuracy: 0.8023\n",
            "Epoch 36/100\n",
            "484/484 [==============================] - 6s 12ms/step - loss: 0.7555 - accuracy: 0.8015\n",
            "Epoch 37/100\n",
            "484/484 [==============================] - 6s 12ms/step - loss: 0.7310 - accuracy: 0.8066\n",
            "Epoch 38/100\n",
            "484/484 [==============================] - 6s 12ms/step - loss: 0.7143 - accuracy: 0.8122\n",
            "Epoch 39/100\n",
            "484/484 [==============================] - 6s 12ms/step - loss: 0.6942 - accuracy: 0.8168\n",
            "Epoch 40/100\n",
            "484/484 [==============================] - 6s 12ms/step - loss: 0.6919 - accuracy: 0.8181\n",
            "Epoch 41/100\n",
            "484/484 [==============================] - 6s 12ms/step - loss: 0.6749 - accuracy: 0.8216\n",
            "Epoch 42/100\n",
            "484/484 [==============================] - 6s 12ms/step - loss: 0.6802 - accuracy: 0.8178\n",
            "Epoch 43/100\n",
            "484/484 [==============================] - 6s 12ms/step - loss: 0.6865 - accuracy: 0.8163\n",
            "Epoch 44/100\n",
            "484/484 [==============================] - 6s 12ms/step - loss: 0.6604 - accuracy: 0.8235\n",
            "Epoch 45/100\n",
            "484/484 [==============================] - 6s 12ms/step - loss: 0.6379 - accuracy: 0.8291\n",
            "Epoch 46/100\n",
            "484/484 [==============================] - 6s 12ms/step - loss: 0.6225 - accuracy: 0.8339\n",
            "Epoch 47/100\n",
            "484/484 [==============================] - 6s 12ms/step - loss: 0.6201 - accuracy: 0.8334\n",
            "Epoch 48/100\n",
            "484/484 [==============================] - 6s 12ms/step - loss: 0.6161 - accuracy: 0.8318\n",
            "Epoch 49/100\n",
            "484/484 [==============================] - 6s 12ms/step - loss: 0.6310 - accuracy: 0.8262\n",
            "Epoch 50/100\n",
            "484/484 [==============================] - 6s 12ms/step - loss: 0.6174 - accuracy: 0.8303\n",
            "Epoch 51/100\n",
            "484/484 [==============================] - 6s 12ms/step - loss: 0.6197 - accuracy: 0.8303\n",
            "Epoch 52/100\n",
            "484/484 [==============================] - 6s 12ms/step - loss: 0.6010 - accuracy: 0.8348\n",
            "Epoch 53/100\n",
            "484/484 [==============================] - 6s 11ms/step - loss: 0.6039 - accuracy: 0.8332\n",
            "Epoch 54/100\n",
            "484/484 [==============================] - 6s 12ms/step - loss: 0.5911 - accuracy: 0.8366\n",
            "Epoch 55/100\n",
            "484/484 [==============================] - 6s 12ms/step - loss: 0.5762 - accuracy: 0.8400\n",
            "Epoch 56/100\n",
            "484/484 [==============================] - 6s 12ms/step - loss: 0.5925 - accuracy: 0.8339\n",
            "Epoch 57/100\n",
            "484/484 [==============================] - 6s 12ms/step - loss: 0.5936 - accuracy: 0.8333\n",
            "Epoch 58/100\n",
            "484/484 [==============================] - 6s 12ms/step - loss: 0.5775 - accuracy: 0.8379\n",
            "Epoch 59/100\n",
            "484/484 [==============================] - 6s 12ms/step - loss: 0.5799 - accuracy: 0.8375\n",
            "Epoch 60/100\n",
            "484/484 [==============================] - 6s 12ms/step - loss: 0.5811 - accuracy: 0.8362\n",
            "Epoch 61/100\n",
            "484/484 [==============================] - 6s 12ms/step - loss: 0.5826 - accuracy: 0.8340\n",
            "Epoch 62/100\n",
            "484/484 [==============================] - 6s 12ms/step - loss: 0.5824 - accuracy: 0.8342\n",
            "Epoch 63/100\n",
            "484/484 [==============================] - 6s 12ms/step - loss: 0.5811 - accuracy: 0.8347\n",
            "Epoch 64/100\n",
            "484/484 [==============================] - 6s 12ms/step - loss: 0.5568 - accuracy: 0.8398\n",
            "Epoch 65/100\n",
            "484/484 [==============================] - 6s 12ms/step - loss: 0.5551 - accuracy: 0.8414\n",
            "Epoch 66/100\n",
            "484/484 [==============================] - 6s 12ms/step - loss: 0.5620 - accuracy: 0.8395\n",
            "Epoch 67/100\n",
            "484/484 [==============================] - 6s 13ms/step - loss: 0.5710 - accuracy: 0.8381\n",
            "Epoch 68/100\n",
            "484/484 [==============================] - 6s 12ms/step - loss: 0.5593 - accuracy: 0.8407\n",
            "Epoch 69/100\n",
            "484/484 [==============================] - 6s 12ms/step - loss: 0.5716 - accuracy: 0.8335\n",
            "Epoch 70/100\n",
            "484/484 [==============================] - 6s 12ms/step - loss: 0.5744 - accuracy: 0.8351\n",
            "Epoch 71/100\n",
            "484/484 [==============================] - 6s 12ms/step - loss: 0.5457 - accuracy: 0.8436\n",
            "Epoch 72/100\n",
            "484/484 [==============================] - 6s 12ms/step - loss: 0.5378 - accuracy: 0.8437\n",
            "Epoch 73/100\n",
            "484/484 [==============================] - 6s 12ms/step - loss: 0.5351 - accuracy: 0.8439\n",
            "Epoch 74/100\n",
            "484/484 [==============================] - 6s 12ms/step - loss: 0.5478 - accuracy: 0.8404\n",
            "Epoch 75/100\n",
            "484/484 [==============================] - 6s 12ms/step - loss: 0.5466 - accuracy: 0.8414\n",
            "Epoch 76/100\n",
            "484/484 [==============================] - 6s 12ms/step - loss: 0.5494 - accuracy: 0.8401\n",
            "Epoch 77/100\n",
            "484/484 [==============================] - 6s 12ms/step - loss: 0.5553 - accuracy: 0.8372\n",
            "Epoch 78/100\n",
            "484/484 [==============================] - 6s 12ms/step - loss: 0.5479 - accuracy: 0.8397\n",
            "Epoch 79/100\n",
            "484/484 [==============================] - 6s 12ms/step - loss: 0.5337 - accuracy: 0.8423\n",
            "Epoch 80/100\n",
            "484/484 [==============================] - 6s 12ms/step - loss: 0.5390 - accuracy: 0.8430\n",
            "Epoch 81/100\n",
            "484/484 [==============================] - 6s 12ms/step - loss: 0.5318 - accuracy: 0.8455\n",
            "Epoch 82/100\n",
            "484/484 [==============================] - 6s 12ms/step - loss: 0.5518 - accuracy: 0.8377\n",
            "Epoch 83/100\n",
            "484/484 [==============================] - 6s 12ms/step - loss: 0.5459 - accuracy: 0.8404\n",
            "Epoch 84/100\n",
            "484/484 [==============================] - 6s 12ms/step - loss: 0.5257 - accuracy: 0.8434\n",
            "Epoch 85/100\n",
            "484/484 [==============================] - 6s 12ms/step - loss: 0.5245 - accuracy: 0.8445\n",
            "Epoch 86/100\n",
            "484/484 [==============================] - 6s 12ms/step - loss: 0.5295 - accuracy: 0.8433\n",
            "Epoch 87/100\n",
            "484/484 [==============================] - 6s 12ms/step - loss: 0.5458 - accuracy: 0.8384\n",
            "Epoch 88/100\n",
            "484/484 [==============================] - 6s 12ms/step - loss: 0.5336 - accuracy: 0.8421\n",
            "Epoch 89/100\n",
            "484/484 [==============================] - 6s 12ms/step - loss: 0.5312 - accuracy: 0.8438\n",
            "Epoch 90/100\n",
            "484/484 [==============================] - 6s 12ms/step - loss: 0.5191 - accuracy: 0.8453\n",
            "Epoch 91/100\n",
            "484/484 [==============================] - 6s 12ms/step - loss: 0.5383 - accuracy: 0.8383\n",
            "Epoch 92/100\n",
            "484/484 [==============================] - 6s 12ms/step - loss: 0.5299 - accuracy: 0.8404\n",
            "Epoch 93/100\n",
            "484/484 [==============================] - 6s 12ms/step - loss: 0.5284 - accuracy: 0.8404\n",
            "Epoch 94/100\n",
            "484/484 [==============================] - 6s 12ms/step - loss: 0.5187 - accuracy: 0.8447\n",
            "Epoch 95/100\n",
            "484/484 [==============================] - 6s 12ms/step - loss: 0.5184 - accuracy: 0.8465\n",
            "Epoch 96/100\n",
            "484/484 [==============================] - 6s 12ms/step - loss: 0.5157 - accuracy: 0.8469\n",
            "Epoch 97/100\n",
            "484/484 [==============================] - 6s 12ms/step - loss: 0.5197 - accuracy: 0.8440\n",
            "Epoch 98/100\n",
            "484/484 [==============================] - 6s 12ms/step - loss: 0.5233 - accuracy: 0.8426\n",
            "Epoch 99/100\n",
            "484/484 [==============================] - 6s 12ms/step - loss: 0.5244 - accuracy: 0.8421\n",
            "Epoch 100/100\n",
            "484/484 [==============================] - 6s 12ms/step - loss: 0.5285 - accuracy: 0.8401\n"
          ],
          "name": "stdout"
        }
      ]
    },
    {
      "cell_type": "code",
      "metadata": {
        "colab": {
          "base_uri": "https://localhost:8080/",
          "height": 545
        },
        "id": "1fXTEO3GJ282",
        "outputId": "f3800df6-f2ab-4bb8-b523-5161dddcced4"
      },
      "source": [
        "import matplotlib.pyplot as plt\n",
        "acc = history.history['accuracy']\n",
        "loss = history.history['loss']\n",
        "\n",
        "epochs = range(len(acc))\n",
        "\n",
        "plt.plot(epochs, acc, 'b', label='Training accuracy')\n",
        "plt.title('Training accuracy')\n",
        "\n",
        "plt.figure()\n",
        "\n",
        "plt.plot(epochs, loss, 'b', label='Training Loss')\n",
        "plt.title('Training loss')\n",
        "plt.legend()\n",
        "\n",
        "plt.show()"
      ],
      "execution_count": 7,
      "outputs": [
        {
          "output_type": "display_data",
          "data": {
            "image/png": "[encoded data removed]",
            "text/plain": [
              "<Figure size 432x288 with 1 Axes>"
            ]
          },
          "metadata": {
            "tags": [],
            "needs_background": "light"
          }
        },
        {
          "output_type": "display_data",
          "data": {
            "image/png": "[encoded data removed]",
            "text/plain": [
              "<Figure size 432x288 with 1 Axes>"
            ]
          },
          "metadata": {
            "tags": [],
            "needs_background": "light"
          }
        }
      ]
    },
    {
      "cell_type": "code",
      "metadata": {
        "colab": {
          "base_uri": "https://localhost:8080/"
        },
        "id": "6Vc6PHgxa6Hm",
        "outputId": "919c35e3-e1b7-4908-a3f4-89ab9d616616"
      },
      "source": [
        "seed_text = \"Help me Obi Wan Kenobi, you're my only hope\"\n",
        "next_words = 100\n",
        "  \n",
        "for _ in range(next_words):\n",
        "\ttoken_list = tokenizer.texts_to_sequences([seed_text])[0]\n",
        "\ttoken_list = pad_sequences([token_list], maxlen=max_sequence_len-1, padding='pre')\n",
        "\tpredicted = model.predict_classes(token_list, verbose=0)\n",
        "\toutput_word = \"\"\n",
        "\tfor word, index in tokenizer.word_index.items():\n",
        "\t\tif index == predicted:\n",
        "\t\t\toutput_word = word\n",
        "\t\t\tbreak\n",
        "\tseed_text += \" \" + output_word\n",
        "print(seed_text)"
      ],
      "execution_count": 8,
      "outputs": [
        {
          "output_type": "stream",
          "text": [
            "/usr/local/lib/python3.7/dist-packages/tensorflow/python/keras/engine/sequential.py:455: UserWarning: `model.predict_classes()` is deprecated and will be removed after 2021-01-01. Please use instead:* `np.argmax(model.predict(x), axis=-1)`,   if your model does multi-class classification   (e.g. if it uses a `softmax` last-layer activation).* `(model.predict(x) > 0.5).astype(\"int32\")`,   if your model does binary classification   (e.g. if it uses a `sigmoid` last-layer activation).\n",
            "  warnings.warn('`model.predict_classes()` is deprecated and '\n"
          ],
          "name": "stderr"
        },
        {
          "output_type": "stream",
          "text": [
            "Help me Obi Wan Kenobi, you're my only hope every part grow me thee in rest rest done my rhyme to sing on their power to tell me to store lie me thence now now more prove it deeds to me and worth away thee and green thee bright to faults assured mine eye saith so strong ' away you still now lie not still or be so bold thee in this strife bright so seen it nearly express my mind breast out to this ill place to thee will thee i seen the best of mow prove it of ground loss now now lie it in me so\n"
          ],
          "name": "stdout"
        }
      ]
    }
  ]
}